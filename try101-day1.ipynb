{
 "cells": [
  {
   "cell_type": "code",
   "execution_count": 105,
   "metadata": {},
   "outputs": [],
   "source": [
    "import pandas as pd\n",
    "import matplotlib.pyplot as plt\n"
   ]
  },
  {
   "cell_type": "code",
   "execution_count": 106,
   "metadata": {},
   "outputs": [],
   "source": [
    "df = pd.read_csv(\"test_amazon.csv\")"
   ]
  },
  {
   "cell_type": "code",
   "execution_count": 107,
   "metadata": {},
   "outputs": [
    {
     "data": {
      "text/html": [
       "<div>\n",
       "<style scoped>\n",
       "    .dataframe tbody tr th:only-of-type {\n",
       "        vertical-align: middle;\n",
       "    }\n",
       "\n",
       "    .dataframe tbody tr th {\n",
       "        vertical-align: top;\n",
       "    }\n",
       "\n",
       "    .dataframe thead th {\n",
       "        text-align: right;\n",
       "    }\n",
       "</style>\n",
       "<table border=\"1\" class=\"dataframe\">\n",
       "  <thead>\n",
       "    <tr style=\"text-align: right;\">\n",
       "      <th></th>\n",
       "      <th>label</th>\n",
       "      <th>text</th>\n",
       "    </tr>\n",
       "  </thead>\n",
       "  <tbody>\n",
       "    <tr>\n",
       "      <th>0</th>\n",
       "      <td>0</td>\n",
       "      <td>Not worth the money: Banks'book Oscilloscope G...</td>\n",
       "    </tr>\n",
       "    <tr>\n",
       "      <th>1</th>\n",
       "      <td>0</td>\n",
       "      <td>I changed my mind: When I first reviewed this ...</td>\n",
       "    </tr>\n",
       "    <tr>\n",
       "      <th>2</th>\n",
       "      <td>0</td>\n",
       "      <td>How quickly we fail...: I was initially enthus...</td>\n",
       "    </tr>\n",
       "    <tr>\n",
       "      <th>3</th>\n",
       "      <td>0</td>\n",
       "      <td>DOA Did Not Power up out of the box: DOA produ...</td>\n",
       "    </tr>\n",
       "    <tr>\n",
       "      <th>4</th>\n",
       "      <td>0</td>\n",
       "      <td>support: I ordered this nursing bra after look...</td>\n",
       "    </tr>\n",
       "  </tbody>\n",
       "</table>\n",
       "</div>"
      ],
      "text/plain": [
       "   label                                               text\n",
       "0      0  Not worth the money: Banks'book Oscilloscope G...\n",
       "1      0  I changed my mind: When I first reviewed this ...\n",
       "2      0  How quickly we fail...: I was initially enthus...\n",
       "3      0  DOA Did Not Power up out of the box: DOA produ...\n",
       "4      0  support: I ordered this nursing bra after look..."
      ]
     },
     "execution_count": 107,
     "metadata": {},
     "output_type": "execute_result"
    }
   ],
   "source": [
    "df.head()"
   ]
  },
  {
   "cell_type": "code",
   "execution_count": 108,
   "metadata": {},
   "outputs": [
    {
     "data": {
      "text/plain": [
       "label    0\n",
       "text     0\n",
       "dtype: int64"
      ]
     },
     "execution_count": 108,
     "metadata": {},
     "output_type": "execute_result"
    }
   ],
   "source": [
    "df.isnull().sum()"
   ]
  },
  {
   "cell_type": "code",
   "execution_count": 109,
   "metadata": {},
   "outputs": [
    {
     "name": "stderr",
     "output_type": "stream",
     "text": [
      "[nltk_data] Downloading package vader_lexicon to C:\\Users\\Yousuf\n",
      "[nltk_data]     Traders\\AppData\\Roaming\\nltk_data...\n",
      "[nltk_data]   Package vader_lexicon is already up-to-date!\n"
     ]
    },
    {
     "data": {
      "text/plain": [
       "True"
      ]
     },
     "execution_count": 109,
     "metadata": {},
     "output_type": "execute_result"
    }
   ],
   "source": [
    "import nltk\n",
    "nltk.download('vader_lexicon')\n"
   ]
  },
  {
   "cell_type": "code",
   "execution_count": 110,
   "metadata": {},
   "outputs": [],
   "source": [
    "from nltk.sentiment.vader import SentimentIntensityAnalyzer"
   ]
  },
  {
   "cell_type": "code",
   "execution_count": 111,
   "metadata": {},
   "outputs": [],
   "source": [
    "sid = SentimentIntensityAnalyzer()"
   ]
  },
  {
   "cell_type": "code",
   "execution_count": 112,
   "metadata": {},
   "outputs": [],
   "source": [
    "import numpy as np"
   ]
  },
  {
   "cell_type": "code",
   "execution_count": 113,
   "metadata": {},
   "outputs": [
    {
     "data": {
      "text/plain": [
       "0    50.106667\n",
       "1    49.893333\n",
       "Name: label, dtype: float64"
      ]
     },
     "execution_count": 113,
     "metadata": {},
     "output_type": "execute_result"
    }
   ],
   "source": [
    "df['label'].value_counts(normalize=True)*100"
   ]
  },
  {
   "cell_type": "code",
   "execution_count": 114,
   "metadata": {},
   "outputs": [],
   "source": [
    "# # df.dropna(inplace=True)\n",
    "\n",
    "# blanks = []  # start with an empty list\n",
    "\n",
    "# for i,lb,rv in df.itertuples():  \n",
    "#     if type(rv)==str:            \n",
    "#         if rv.isspace():        \n",
    "#             blanks.append(i)     \n",
    "\n",
    "# df.drop(blanks, inplace=True)"
   ]
  },
  {
   "cell_type": "code",
   "execution_count": 115,
   "metadata": {},
   "outputs": [
    {
     "data": {
      "text/plain": [
       "[]"
      ]
     },
     "execution_count": 115,
     "metadata": {},
     "output_type": "execute_result"
    }
   ],
   "source": [
    "blanks"
   ]
  },
  {
   "cell_type": "code",
   "execution_count": 123,
   "metadata": {},
   "outputs": [
    {
     "data": {
      "text/html": [
       "<div>\n",
       "<style scoped>\n",
       "    .dataframe tbody tr th:only-of-type {\n",
       "        vertical-align: middle;\n",
       "    }\n",
       "\n",
       "    .dataframe tbody tr th {\n",
       "        vertical-align: top;\n",
       "    }\n",
       "\n",
       "    .dataframe thead th {\n",
       "        text-align: right;\n",
       "    }\n",
       "</style>\n",
       "<table border=\"1\" class=\"dataframe\">\n",
       "  <thead>\n",
       "    <tr style=\"text-align: right;\">\n",
       "      <th></th>\n",
       "      <th>label</th>\n",
       "      <th>text</th>\n",
       "      <th>scores</th>\n",
       "    </tr>\n",
       "  </thead>\n",
       "  <tbody>\n",
       "    <tr>\n",
       "      <th>0</th>\n",
       "      <td>0</td>\n",
       "      <td>Not worth the money: Banks'book Oscilloscope G...</td>\n",
       "      <td>{'neg': 0.107, 'neu': 0.831, 'pos': 0.062, 'co...</td>\n",
       "    </tr>\n",
       "    <tr>\n",
       "      <th>1</th>\n",
       "      <td>0</td>\n",
       "      <td>I changed my mind: When I first reviewed this ...</td>\n",
       "      <td>{'neg': 0.018, 'neu': 0.874, 'pos': 0.108, 'co...</td>\n",
       "    </tr>\n",
       "    <tr>\n",
       "      <th>2</th>\n",
       "      <td>0</td>\n",
       "      <td>How quickly we fail...: I was initially enthus...</td>\n",
       "      <td>{'neg': 0.147, 'neu': 0.751, 'pos': 0.102, 'co...</td>\n",
       "    </tr>\n",
       "    <tr>\n",
       "      <th>3</th>\n",
       "      <td>0</td>\n",
       "      <td>DOA Did Not Power up out of the box: DOA produ...</td>\n",
       "      <td>{'neg': 0.26, 'neu': 0.74, 'pos': 0.0, 'compou...</td>\n",
       "    </tr>\n",
       "    <tr>\n",
       "      <th>4</th>\n",
       "      <td>0</td>\n",
       "      <td>support: I ordered this nursing bra after look...</td>\n",
       "      <td>{'neg': 0.023, 'neu': 0.884, 'pos': 0.093, 'co...</td>\n",
       "    </tr>\n",
       "  </tbody>\n",
       "</table>\n",
       "</div>"
      ],
      "text/plain": [
       "   label                                               text  \\\n",
       "0      0  Not worth the money: Banks'book Oscilloscope G...   \n",
       "1      0  I changed my mind: When I first reviewed this ...   \n",
       "2      0  How quickly we fail...: I was initially enthus...   \n",
       "3      0  DOA Did Not Power up out of the box: DOA produ...   \n",
       "4      0  support: I ordered this nursing bra after look...   \n",
       "\n",
       "                                              scores  \n",
       "0  {'neg': 0.107, 'neu': 0.831, 'pos': 0.062, 'co...  \n",
       "1  {'neg': 0.018, 'neu': 0.874, 'pos': 0.108, 'co...  \n",
       "2  {'neg': 0.147, 'neu': 0.751, 'pos': 0.102, 'co...  \n",
       "3  {'neg': 0.26, 'neu': 0.74, 'pos': 0.0, 'compou...  \n",
       "4  {'neg': 0.023, 'neu': 0.884, 'pos': 0.093, 'co...  "
      ]
     },
     "execution_count": 123,
     "metadata": {},
     "output_type": "execute_result"
    }
   ],
   "source": [
    "df['scores'] = df['text'].apply(lambda text: sid.polarity_scores(text))\n",
    "\n",
    "df.head()"
   ]
  },
  {
   "cell_type": "code",
   "execution_count": 125,
   "metadata": {},
   "outputs": [],
   "source": [
    "d = df['scores']"
   ]
  },
  {
   "cell_type": "code",
   "execution_count": null,
   "metadata": {},
   "outputs": [],
   "source": [
    "for i in scores:\n",
    "    max(d, key=d.get)"
   ]
  },
  {
   "cell_type": "code",
   "execution_count": null,
   "metadata": {},
   "outputs": [],
   "source": [
    "test_pos = test[test[\"sentiment\"]== \"Positive\"]\n",
    "test_pos = test_pos[\"text\"]\n",
    "\n",
    "\n",
    "test_neg = test[test[\"sentiment\"]== \"Negative\"]\n",
    "test_neg = test_neg[\"text\"]"
   ]
  },
  {
   "cell_type": "code",
   "execution_count": null,
   "metadata": {},
   "outputs": [],
   "source": []
  },
  {
   "cell_type": "code",
   "execution_count": 122,
   "metadata": {},
   "outputs": [
    {
     "ename": "TypeError",
     "evalue": "'>' not supported between instances of 'NoneType' and 'NoneType'",
     "output_type": "error",
     "traceback": [
      "\u001b[1;31m---------------------------------------------------------------------------\u001b[0m",
      "\u001b[1;31mTypeError\u001b[0m                                 Traceback (most recent call last)",
      "\u001b[1;32m<ipython-input-122-6ff23da4f8a1>\u001b[0m in \u001b[0;36m<module>\u001b[1;34m\u001b[0m\n\u001b[1;32m----> 1\u001b[1;33m \u001b[0mmax\u001b[0m\u001b[1;33m(\u001b[0m\u001b[0mdf\u001b[0m\u001b[1;33m[\u001b[0m\u001b[1;34m'scores'\u001b[0m\u001b[1;33m]\u001b[0m\u001b[1;33m,\u001b[0m \u001b[0mkey\u001b[0m\u001b[1;33m=\u001b[0m\u001b[0mdf\u001b[0m\u001b[1;33m[\u001b[0m\u001b[1;34m'scores'\u001b[0m\u001b[1;33m]\u001b[0m\u001b[1;33m.\u001b[0m\u001b[0mget\u001b[0m\u001b[1;33m)\u001b[0m\u001b[1;33m\u001b[0m\u001b[1;33m\u001b[0m\u001b[0m\n\u001b[0m",
      "\u001b[1;31mTypeError\u001b[0m: '>' not supported between instances of 'NoneType' and 'NoneType'"
     ]
    }
   ],
   "source": [
    "max(df['scores'], key=df['scores'].get)"
   ]
  },
  {
   "cell_type": "code",
   "execution_count": 118,
   "metadata": {},
   "outputs": [
    {
     "ename": "NameError",
     "evalue": "name 'scores' is not defined",
     "output_type": "error",
     "traceback": [
      "\u001b[1;31m---------------------------------------------------------------------------\u001b[0m",
      "\u001b[1;31mNameError\u001b[0m                                 Traceback (most recent call last)",
      "\u001b[1;32m<ipython-input-118-31266a3e1c9e>\u001b[0m in \u001b[0;36m<module>\u001b[1;34m\u001b[0m\n\u001b[1;32m----> 1\u001b[1;33m \u001b[0md\u001b[0m \u001b[1;33m=\u001b[0m \u001b[0mdf\u001b[0m\u001b[1;33m[\u001b[0m\u001b[0mscores\u001b[0m\u001b[1;33m]\u001b[0m\u001b[1;33m\u001b[0m\u001b[1;33m\u001b[0m\u001b[0m\n\u001b[0m",
      "\u001b[1;31mNameError\u001b[0m: name 'scores' is not defined"
     ]
    }
   ],
   "source": [
    "d = df[scores]"
   ]
  },
  {
   "cell_type": "code",
   "execution_count": null,
   "metadata": {},
   "outputs": [],
   "source": [
    "max(d, key=d.get)"
   ]
  },
  {
   "cell_type": "code",
   "execution_count": null,
   "metadata": {},
   "outputs": [],
   "source": []
  },
  {
   "cell_type": "code",
   "execution_count": null,
   "metadata": {},
   "outputs": [],
   "source": []
  },
  {
   "cell_type": "code",
   "execution_count": 94,
   "metadata": {},
   "outputs": [],
   "source": [
    "df['neg']  = df['scores'].apply(lambda score_dict: score_dict['neg'])\n",
    "df['neu']  = df['scores'].apply(lambda score_dict: score_dict['neu'])\n",
    "df['pos']  = df['scores'].apply(lambda score_dict: score_dict['pos'])"
   ]
  },
  {
   "cell_type": "code",
   "execution_count": 95,
   "metadata": {},
   "outputs": [
    {
     "data": {
      "text/html": [
       "<div>\n",
       "<style scoped>\n",
       "    .dataframe tbody tr th:only-of-type {\n",
       "        vertical-align: middle;\n",
       "    }\n",
       "\n",
       "    .dataframe tbody tr th {\n",
       "        vertical-align: top;\n",
       "    }\n",
       "\n",
       "    .dataframe thead th {\n",
       "        text-align: right;\n",
       "    }\n",
       "</style>\n",
       "<table border=\"1\" class=\"dataframe\">\n",
       "  <thead>\n",
       "    <tr style=\"text-align: right;\">\n",
       "      <th></th>\n",
       "      <th>label</th>\n",
       "      <th>text</th>\n",
       "      <th>scores</th>\n",
       "      <th>neg</th>\n",
       "      <th>neu</th>\n",
       "      <th>pos</th>\n",
       "    </tr>\n",
       "  </thead>\n",
       "  <tbody>\n",
       "    <tr>\n",
       "      <th>0</th>\n",
       "      <td>0</td>\n",
       "      <td>Not worth the money: Banks'book Oscilloscope G...</td>\n",
       "      <td>{'neg': 0.107, 'neu': 0.831, 'pos': 0.062, 'co...</td>\n",
       "      <td>0.107</td>\n",
       "      <td>0.831</td>\n",
       "      <td>0.062</td>\n",
       "    </tr>\n",
       "    <tr>\n",
       "      <th>1</th>\n",
       "      <td>0</td>\n",
       "      <td>I changed my mind: When I first reviewed this ...</td>\n",
       "      <td>{'neg': 0.018, 'neu': 0.874, 'pos': 0.108, 'co...</td>\n",
       "      <td>0.018</td>\n",
       "      <td>0.874</td>\n",
       "      <td>0.108</td>\n",
       "    </tr>\n",
       "    <tr>\n",
       "      <th>2</th>\n",
       "      <td>0</td>\n",
       "      <td>How quickly we fail...: I was initially enthus...</td>\n",
       "      <td>{'neg': 0.147, 'neu': 0.751, 'pos': 0.102, 'co...</td>\n",
       "      <td>0.147</td>\n",
       "      <td>0.751</td>\n",
       "      <td>0.102</td>\n",
       "    </tr>\n",
       "    <tr>\n",
       "      <th>3</th>\n",
       "      <td>0</td>\n",
       "      <td>DOA Did Not Power up out of the box: DOA produ...</td>\n",
       "      <td>{'neg': 0.26, 'neu': 0.74, 'pos': 0.0, 'compou...</td>\n",
       "      <td>0.260</td>\n",
       "      <td>0.740</td>\n",
       "      <td>0.000</td>\n",
       "    </tr>\n",
       "    <tr>\n",
       "      <th>4</th>\n",
       "      <td>0</td>\n",
       "      <td>support: I ordered this nursing bra after look...</td>\n",
       "      <td>{'neg': 0.023, 'neu': 0.884, 'pos': 0.093, 'co...</td>\n",
       "      <td>0.023</td>\n",
       "      <td>0.884</td>\n",
       "      <td>0.093</td>\n",
       "    </tr>\n",
       "    <tr>\n",
       "      <th>...</th>\n",
       "      <td>...</td>\n",
       "      <td>...</td>\n",
       "      <td>...</td>\n",
       "      <td>...</td>\n",
       "      <td>...</td>\n",
       "      <td>...</td>\n",
       "    </tr>\n",
       "    <tr>\n",
       "      <th>29995</th>\n",
       "      <td>0</td>\n",
       "      <td>None: Got a third of the way through and just ...</td>\n",
       "      <td>{'neg': 0.0, 'neu': 0.85, 'pos': 0.15, 'compou...</td>\n",
       "      <td>0.000</td>\n",
       "      <td>0.850</td>\n",
       "      <td>0.150</td>\n",
       "    </tr>\n",
       "    <tr>\n",
       "      <th>29996</th>\n",
       "      <td>1</td>\n",
       "      <td>It grows on you: I didn't pay much for this cd...</td>\n",
       "      <td>{'neg': 0.037, 'neu': 0.849, 'pos': 0.114, 'co...</td>\n",
       "      <td>0.037</td>\n",
       "      <td>0.849</td>\n",
       "      <td>0.114</td>\n",
       "    </tr>\n",
       "    <tr>\n",
       "      <th>29997</th>\n",
       "      <td>0</td>\n",
       "      <td>Great Songs - marginal recording: It is tough ...</td>\n",
       "      <td>{'neg': 0.081, 'neu': 0.662, 'pos': 0.257, 'co...</td>\n",
       "      <td>0.081</td>\n",
       "      <td>0.662</td>\n",
       "      <td>0.257</td>\n",
       "    </tr>\n",
       "    <tr>\n",
       "      <th>29998</th>\n",
       "      <td>0</td>\n",
       "      <td>Don't buy this replacement!!: I should have li...</td>\n",
       "      <td>{'neg': 0.068, 'neu': 0.774, 'pos': 0.158, 'co...</td>\n",
       "      <td>0.068</td>\n",
       "      <td>0.774</td>\n",
       "      <td>0.158</td>\n",
       "    </tr>\n",
       "    <tr>\n",
       "      <th>29999</th>\n",
       "      <td>1</td>\n",
       "      <td>A delightful journey through some unusual Ital...</td>\n",
       "      <td>{'neg': 0.0, 'neu': 0.637, 'pos': 0.363, 'comp...</td>\n",
       "      <td>0.000</td>\n",
       "      <td>0.637</td>\n",
       "      <td>0.363</td>\n",
       "    </tr>\n",
       "  </tbody>\n",
       "</table>\n",
       "<p>30000 rows × 6 columns</p>\n",
       "</div>"
      ],
      "text/plain": [
       "       label                                               text  \\\n",
       "0          0  Not worth the money: Banks'book Oscilloscope G...   \n",
       "1          0  I changed my mind: When I first reviewed this ...   \n",
       "2          0  How quickly we fail...: I was initially enthus...   \n",
       "3          0  DOA Did Not Power up out of the box: DOA produ...   \n",
       "4          0  support: I ordered this nursing bra after look...   \n",
       "...      ...                                                ...   \n",
       "29995      0  None: Got a third of the way through and just ...   \n",
       "29996      1  It grows on you: I didn't pay much for this cd...   \n",
       "29997      0  Great Songs - marginal recording: It is tough ...   \n",
       "29998      0  Don't buy this replacement!!: I should have li...   \n",
       "29999      1  A delightful journey through some unusual Ital...   \n",
       "\n",
       "                                                  scores    neg    neu    pos  \n",
       "0      {'neg': 0.107, 'neu': 0.831, 'pos': 0.062, 'co...  0.107  0.831  0.062  \n",
       "1      {'neg': 0.018, 'neu': 0.874, 'pos': 0.108, 'co...  0.018  0.874  0.108  \n",
       "2      {'neg': 0.147, 'neu': 0.751, 'pos': 0.102, 'co...  0.147  0.751  0.102  \n",
       "3      {'neg': 0.26, 'neu': 0.74, 'pos': 0.0, 'compou...  0.260  0.740  0.000  \n",
       "4      {'neg': 0.023, 'neu': 0.884, 'pos': 0.093, 'co...  0.023  0.884  0.093  \n",
       "...                                                  ...    ...    ...    ...  \n",
       "29995  {'neg': 0.0, 'neu': 0.85, 'pos': 0.15, 'compou...  0.000  0.850  0.150  \n",
       "29996  {'neg': 0.037, 'neu': 0.849, 'pos': 0.114, 'co...  0.037  0.849  0.114  \n",
       "29997  {'neg': 0.081, 'neu': 0.662, 'pos': 0.257, 'co...  0.081  0.662  0.257  \n",
       "29998  {'neg': 0.068, 'neu': 0.774, 'pos': 0.158, 'co...  0.068  0.774  0.158  \n",
       "29999  {'neg': 0.0, 'neu': 0.637, 'pos': 0.363, 'comp...  0.000  0.637  0.363  \n",
       "\n",
       "[30000 rows x 6 columns]"
      ]
     },
     "execution_count": 95,
     "metadata": {},
     "output_type": "execute_result"
    }
   ],
   "source": [
    "df"
   ]
  },
  {
   "cell_type": "code",
   "execution_count": 78,
   "metadata": {},
   "outputs": [
    {
     "data": {
      "text/html": [
       "<div>\n",
       "<style scoped>\n",
       "    .dataframe tbody tr th:only-of-type {\n",
       "        vertical-align: middle;\n",
       "    }\n",
       "\n",
       "    .dataframe tbody tr th {\n",
       "        vertical-align: top;\n",
       "    }\n",
       "\n",
       "    .dataframe thead th {\n",
       "        text-align: right;\n",
       "    }\n",
       "</style>\n",
       "<table border=\"1\" class=\"dataframe\">\n",
       "  <thead>\n",
       "    <tr style=\"text-align: right;\">\n",
       "      <th></th>\n",
       "      <th>label</th>\n",
       "      <th>text</th>\n",
       "      <th>scores</th>\n",
       "      <th>compound</th>\n",
       "      <th>comp_score</th>\n",
       "    </tr>\n",
       "  </thead>\n",
       "  <tbody>\n",
       "    <tr>\n",
       "      <th>0</th>\n",
       "      <td>0</td>\n",
       "      <td>Not worth the money: Banks'book Oscilloscope G...</td>\n",
       "      <td>{'neg': 0.107, 'neu': 0.831, 'pos': 0.062, 'co...</td>\n",
       "      <td>-0.0982</td>\n",
       "      <td>neg</td>\n",
       "    </tr>\n",
       "    <tr>\n",
       "      <th>1</th>\n",
       "      <td>0</td>\n",
       "      <td>I changed my mind: When I first reviewed this ...</td>\n",
       "      <td>{'neg': 0.018, 'neu': 0.874, 'pos': 0.108, 'co...</td>\n",
       "      <td>0.8126</td>\n",
       "      <td>pos</td>\n",
       "    </tr>\n",
       "    <tr>\n",
       "      <th>2</th>\n",
       "      <td>0</td>\n",
       "      <td>How quickly we fail...: I was initially enthus...</td>\n",
       "      <td>{'neg': 0.147, 'neu': 0.751, 'pos': 0.102, 'co...</td>\n",
       "      <td>-0.6800</td>\n",
       "      <td>neg</td>\n",
       "    </tr>\n",
       "    <tr>\n",
       "      <th>3</th>\n",
       "      <td>0</td>\n",
       "      <td>DOA Did Not Power up out of the box: DOA produ...</td>\n",
       "      <td>{'neg': 0.26, 'neu': 0.74, 'pos': 0.0, 'compou...</td>\n",
       "      <td>-0.8429</td>\n",
       "      <td>neg</td>\n",
       "    </tr>\n",
       "    <tr>\n",
       "      <th>4</th>\n",
       "      <td>0</td>\n",
       "      <td>support: I ordered this nursing bra after look...</td>\n",
       "      <td>{'neg': 0.023, 'neu': 0.884, 'pos': 0.093, 'co...</td>\n",
       "      <td>0.7175</td>\n",
       "      <td>pos</td>\n",
       "    </tr>\n",
       "  </tbody>\n",
       "</table>\n",
       "</div>"
      ],
      "text/plain": [
       "   label                                               text  \\\n",
       "0      0  Not worth the money: Banks'book Oscilloscope G...   \n",
       "1      0  I changed my mind: When I first reviewed this ...   \n",
       "2      0  How quickly we fail...: I was initially enthus...   \n",
       "3      0  DOA Did Not Power up out of the box: DOA produ...   \n",
       "4      0  support: I ordered this nursing bra after look...   \n",
       "\n",
       "                                              scores  compound comp_score  \n",
       "0  {'neg': 0.107, 'neu': 0.831, 'pos': 0.062, 'co...   -0.0982        neg  \n",
       "1  {'neg': 0.018, 'neu': 0.874, 'pos': 0.108, 'co...    0.8126        pos  \n",
       "2  {'neg': 0.147, 'neu': 0.751, 'pos': 0.102, 'co...   -0.6800        neg  \n",
       "3  {'neg': 0.26, 'neu': 0.74, 'pos': 0.0, 'compou...   -0.8429        neg  \n",
       "4  {'neg': 0.023, 'neu': 0.884, 'pos': 0.093, 'co...    0.7175        pos  "
      ]
     },
     "execution_count": 78,
     "metadata": {},
     "output_type": "execute_result"
    }
   ],
   "source": [
    "df['comp_score'] = df['compound'].apply(lambda c: 'pos' if c >=0 else 'neg')\n",
    "\n",
    "df.head()"
   ]
  },
  {
   "cell_type": "code",
   "execution_count": 96,
   "metadata": {},
   "outputs": [
    {
     "data": {
      "text/html": [
       "<div>\n",
       "<style scoped>\n",
       "    .dataframe tbody tr th:only-of-type {\n",
       "        vertical-align: middle;\n",
       "    }\n",
       "\n",
       "    .dataframe tbody tr th {\n",
       "        vertical-align: top;\n",
       "    }\n",
       "\n",
       "    .dataframe thead th {\n",
       "        text-align: right;\n",
       "    }\n",
       "</style>\n",
       "<table border=\"1\" class=\"dataframe\">\n",
       "  <thead>\n",
       "    <tr style=\"text-align: right;\">\n",
       "      <th></th>\n",
       "      <th>label</th>\n",
       "      <th>text</th>\n",
       "      <th>scores</th>\n",
       "      <th>neg</th>\n",
       "      <th>neu</th>\n",
       "      <th>pos</th>\n",
       "    </tr>\n",
       "  </thead>\n",
       "  <tbody>\n",
       "    <tr>\n",
       "      <th>0</th>\n",
       "      <td>0</td>\n",
       "      <td>Not worth the money: Banks'book Oscilloscope G...</td>\n",
       "      <td>{'neg': 0.107, 'neu': 0.831, 'pos': 0.062, 'co...</td>\n",
       "      <td>0.107</td>\n",
       "      <td>0.831</td>\n",
       "      <td>0.062</td>\n",
       "    </tr>\n",
       "    <tr>\n",
       "      <th>1</th>\n",
       "      <td>0</td>\n",
       "      <td>I changed my mind: When I first reviewed this ...</td>\n",
       "      <td>{'neg': 0.018, 'neu': 0.874, 'pos': 0.108, 'co...</td>\n",
       "      <td>0.018</td>\n",
       "      <td>0.874</td>\n",
       "      <td>0.108</td>\n",
       "    </tr>\n",
       "    <tr>\n",
       "      <th>2</th>\n",
       "      <td>0</td>\n",
       "      <td>How quickly we fail...: I was initially enthus...</td>\n",
       "      <td>{'neg': 0.147, 'neu': 0.751, 'pos': 0.102, 'co...</td>\n",
       "      <td>0.147</td>\n",
       "      <td>0.751</td>\n",
       "      <td>0.102</td>\n",
       "    </tr>\n",
       "    <tr>\n",
       "      <th>3</th>\n",
       "      <td>0</td>\n",
       "      <td>DOA Did Not Power up out of the box: DOA produ...</td>\n",
       "      <td>{'neg': 0.26, 'neu': 0.74, 'pos': 0.0, 'compou...</td>\n",
       "      <td>0.260</td>\n",
       "      <td>0.740</td>\n",
       "      <td>0.000</td>\n",
       "    </tr>\n",
       "    <tr>\n",
       "      <th>4</th>\n",
       "      <td>0</td>\n",
       "      <td>support: I ordered this nursing bra after look...</td>\n",
       "      <td>{'neg': 0.023, 'neu': 0.884, 'pos': 0.093, 'co...</td>\n",
       "      <td>0.023</td>\n",
       "      <td>0.884</td>\n",
       "      <td>0.093</td>\n",
       "    </tr>\n",
       "    <tr>\n",
       "      <th>...</th>\n",
       "      <td>...</td>\n",
       "      <td>...</td>\n",
       "      <td>...</td>\n",
       "      <td>...</td>\n",
       "      <td>...</td>\n",
       "      <td>...</td>\n",
       "    </tr>\n",
       "    <tr>\n",
       "      <th>29995</th>\n",
       "      <td>0</td>\n",
       "      <td>None: Got a third of the way through and just ...</td>\n",
       "      <td>{'neg': 0.0, 'neu': 0.85, 'pos': 0.15, 'compou...</td>\n",
       "      <td>0.000</td>\n",
       "      <td>0.850</td>\n",
       "      <td>0.150</td>\n",
       "    </tr>\n",
       "    <tr>\n",
       "      <th>29996</th>\n",
       "      <td>1</td>\n",
       "      <td>It grows on you: I didn't pay much for this cd...</td>\n",
       "      <td>{'neg': 0.037, 'neu': 0.849, 'pos': 0.114, 'co...</td>\n",
       "      <td>0.037</td>\n",
       "      <td>0.849</td>\n",
       "      <td>0.114</td>\n",
       "    </tr>\n",
       "    <tr>\n",
       "      <th>29997</th>\n",
       "      <td>0</td>\n",
       "      <td>Great Songs - marginal recording: It is tough ...</td>\n",
       "      <td>{'neg': 0.081, 'neu': 0.662, 'pos': 0.257, 'co...</td>\n",
       "      <td>0.081</td>\n",
       "      <td>0.662</td>\n",
       "      <td>0.257</td>\n",
       "    </tr>\n",
       "    <tr>\n",
       "      <th>29998</th>\n",
       "      <td>0</td>\n",
       "      <td>Don't buy this replacement!!: I should have li...</td>\n",
       "      <td>{'neg': 0.068, 'neu': 0.774, 'pos': 0.158, 'co...</td>\n",
       "      <td>0.068</td>\n",
       "      <td>0.774</td>\n",
       "      <td>0.158</td>\n",
       "    </tr>\n",
       "    <tr>\n",
       "      <th>29999</th>\n",
       "      <td>1</td>\n",
       "      <td>A delightful journey through some unusual Ital...</td>\n",
       "      <td>{'neg': 0.0, 'neu': 0.637, 'pos': 0.363, 'comp...</td>\n",
       "      <td>0.000</td>\n",
       "      <td>0.637</td>\n",
       "      <td>0.363</td>\n",
       "    </tr>\n",
       "  </tbody>\n",
       "</table>\n",
       "<p>30000 rows × 6 columns</p>\n",
       "</div>"
      ],
      "text/plain": [
       "       label                                               text  \\\n",
       "0          0  Not worth the money: Banks'book Oscilloscope G...   \n",
       "1          0  I changed my mind: When I first reviewed this ...   \n",
       "2          0  How quickly we fail...: I was initially enthus...   \n",
       "3          0  DOA Did Not Power up out of the box: DOA produ...   \n",
       "4          0  support: I ordered this nursing bra after look...   \n",
       "...      ...                                                ...   \n",
       "29995      0  None: Got a third of the way through and just ...   \n",
       "29996      1  It grows on you: I didn't pay much for this cd...   \n",
       "29997      0  Great Songs - marginal recording: It is tough ...   \n",
       "29998      0  Don't buy this replacement!!: I should have li...   \n",
       "29999      1  A delightful journey through some unusual Ital...   \n",
       "\n",
       "                                                  scores    neg    neu    pos  \n",
       "0      {'neg': 0.107, 'neu': 0.831, 'pos': 0.062, 'co...  0.107  0.831  0.062  \n",
       "1      {'neg': 0.018, 'neu': 0.874, 'pos': 0.108, 'co...  0.018  0.874  0.108  \n",
       "2      {'neg': 0.147, 'neu': 0.751, 'pos': 0.102, 'co...  0.147  0.751  0.102  \n",
       "3      {'neg': 0.26, 'neu': 0.74, 'pos': 0.0, 'compou...  0.260  0.740  0.000  \n",
       "4      {'neg': 0.023, 'neu': 0.884, 'pos': 0.093, 'co...  0.023  0.884  0.093  \n",
       "...                                                  ...    ...    ...    ...  \n",
       "29995  {'neg': 0.0, 'neu': 0.85, 'pos': 0.15, 'compou...  0.000  0.850  0.150  \n",
       "29996  {'neg': 0.037, 'neu': 0.849, 'pos': 0.114, 'co...  0.037  0.849  0.114  \n",
       "29997  {'neg': 0.081, 'neu': 0.662, 'pos': 0.257, 'co...  0.081  0.662  0.257  \n",
       "29998  {'neg': 0.068, 'neu': 0.774, 'pos': 0.158, 'co...  0.068  0.774  0.158  \n",
       "29999  {'neg': 0.0, 'neu': 0.637, 'pos': 0.363, 'comp...  0.000  0.637  0.363  \n",
       "\n",
       "[30000 rows x 6 columns]"
      ]
     },
     "execution_count": 96,
     "metadata": {},
     "output_type": "execute_result"
    }
   ],
   "source": [
    "df"
   ]
  },
  {
   "cell_type": "code",
   "execution_count": 97,
   "metadata": {},
   "outputs": [],
   "source": [
    "test = ['neg', 'neu', 'pos']"
   ]
  },
  {
   "cell_type": "code",
   "execution_count": 98,
   "metadata": {},
   "outputs": [
    {
     "name": "stdout",
     "output_type": "stream",
     "text": [
      "pos\n"
     ]
    }
   ],
   "source": [
    "print(max(test))\n"
   ]
  },
  {
   "cell_type": "code",
   "execution_count": null,
   "metadata": {},
   "outputs": [],
   "source": [
    "def text(mx):\n",
    "    test = ['neg', 'neu', 'pos']\n",
    "    print(max(txt))"
   ]
  },
  {
   "cell_type": "code",
   "execution_count": 81,
   "metadata": {},
   "outputs": [
    {
     "data": {
      "text/plain": [
       "pos    72.31\n",
       "neg    27.69\n",
       "Name: comp_score, dtype: float64"
      ]
     },
     "execution_count": 81,
     "metadata": {},
     "output_type": "execute_result"
    }
   ],
   "source": [
    "df['comp_score'].value_counts(normalize=True)*100"
   ]
  },
  {
   "cell_type": "code",
   "execution_count": 74,
   "metadata": {},
   "outputs": [
    {
     "data": {
      "text/plain": [
       "{'neg': 0.0, 'neu': 0.513, 'pos': 0.487, 'compound': 0.5859}"
      ]
     },
     "execution_count": 74,
     "metadata": {},
     "output_type": "execute_result"
    }
   ],
   "source": [
    "# Write a review as one continuous string (multiple sentences are ok)\n",
    "review = 'The shoes I brought were amazing.'\n",
    "# Obtain the sid scores for your review\n",
    "sid.polarity_scores(review)"
   ]
  },
  {
   "cell_type": "code",
   "execution_count": 75,
   "metadata": {},
   "outputs": [
    {
     "data": {
      "text/plain": [
       "{'neg': 0.107, 'neu': 0.831, 'pos': 0.062, 'compound': -0.0982}"
      ]
     },
     "execution_count": 75,
     "metadata": {},
     "output_type": "execute_result"
    }
   ],
   "source": [
    "review=\"Not worth the money: Banks'book Oscilloscope Guide uses large print and offers little information and there are mistakes...There is some useful information there but not worth the high price.\"\n",
    "# Obtain the sid scores for your review\n",
    "sid.polarity_scores(review)"
   ]
  },
  {
   "cell_type": "code",
   "execution_count": 76,
   "metadata": {},
   "outputs": [],
   "source": [
    "a = df.text.iloc[0]"
   ]
  },
  {
   "cell_type": "code",
   "execution_count": 77,
   "metadata": {},
   "outputs": [
    {
     "data": {
      "text/plain": [
       "\"Not worth the money: Banks'book Oscilloscope Guide uses large print and offers little information and there are mistakes...There is some useful information there but not worth the high price.\""
      ]
     },
     "execution_count": 77,
     "metadata": {},
     "output_type": "execute_result"
    }
   ],
   "source": [
    "a"
   ]
  },
  {
   "cell_type": "code",
   "execution_count": null,
   "metadata": {},
   "outputs": [],
   "source": []
  }
 ],
 "metadata": {
  "kernelspec": {
   "display_name": "Python 3",
   "language": "python",
   "name": "python3"
  },
  "language_info": {
   "codemirror_mode": {
    "name": "ipython",
    "version": 3
   },
   "file_extension": ".py",
   "mimetype": "text/x-python",
   "name": "python",
   "nbconvert_exporter": "python",
   "pygments_lexer": "ipython3",
   "version": "3.8.5"
  }
 },
 "nbformat": 4,
 "nbformat_minor": 4
}
